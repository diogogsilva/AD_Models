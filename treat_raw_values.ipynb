{
 "cells": [
  {
   "cell_type": "code",
   "execution_count": 1,
   "id": "4e88eba7",
   "metadata": {},
   "outputs": [
    {
     "ename": "ModuleNotFoundError",
     "evalue": "No module named 'pandas'",
     "output_type": "error",
     "traceback": [
      "\u001b[1;31m---------------------------------------------------------------------------\u001b[0m",
      "\u001b[1;31mModuleNotFoundError\u001b[0m                       Traceback (most recent call last)",
      "\u001b[1;32m<ipython-input-1-9d138273ea75>\u001b[0m in \u001b[0;36m<module>\u001b[1;34m\u001b[0m\n\u001b[1;32m----> 1\u001b[1;33m \u001b[1;32mimport\u001b[0m \u001b[0mpandas\u001b[0m \u001b[1;32mas\u001b[0m \u001b[0mpd\u001b[0m\u001b[1;33m\u001b[0m\u001b[1;33m\u001b[0m\u001b[0m\n\u001b[0m\u001b[0;32m      2\u001b[0m \u001b[1;32mimport\u001b[0m \u001b[0mmatplotlib\u001b[0m\u001b[1;33m.\u001b[0m\u001b[0mpyplot\u001b[0m \u001b[1;32mas\u001b[0m \u001b[0mplt\u001b[0m\u001b[1;33m\u001b[0m\u001b[1;33m\u001b[0m\u001b[0m\n\u001b[0;32m      3\u001b[0m \u001b[1;33m\u001b[0m\u001b[0m\n\u001b[0;32m      4\u001b[0m \u001b[1;32mdef\u001b[0m \u001b[0mgetData\u001b[0m\u001b[1;33m(\u001b[0m\u001b[0mindicator\u001b[0m\u001b[1;33m)\u001b[0m\u001b[1;33m:\u001b[0m\u001b[1;33m\u001b[0m\u001b[1;33m\u001b[0m\u001b[0m\n\u001b[0;32m      5\u001b[0m     \u001b[0mdata\u001b[0m \u001b[1;33m=\u001b[0m \u001b[0mpd\u001b[0m\u001b[1;33m.\u001b[0m\u001b[0mread_csv\u001b[0m\u001b[1;33m(\u001b[0m\u001b[1;34m'datasets/'\u001b[0m \u001b[1;33m+\u001b[0m \u001b[0mindicator\u001b[0m \u001b[1;33m+\u001b[0m \u001b[1;34m'.csv'\u001b[0m\u001b[1;33m,\u001b[0m \u001b[0mparse_dates\u001b[0m\u001b[1;33m=\u001b[0m\u001b[1;32mTrue\u001b[0m\u001b[1;33m,\u001b[0m \u001b[0mindex_col\u001b[0m\u001b[1;33m=\u001b[0m\u001b[1;34m'timestep'\u001b[0m\u001b[1;33m)\u001b[0m\u001b[1;33m\u001b[0m\u001b[1;33m\u001b[0m\u001b[0m\n",
      "\u001b[1;31mModuleNotFoundError\u001b[0m: No module named 'pandas'"
     ]
    }
   ],
   "source": [
    "import pandas as pd\n",
    "import matplotlib.pyplot as plt\n",
    "\n",
    "def getData(indicator):\n",
    "    data = pd.read_csv('datasets/' + indicator + '.csv', parse_dates=True, index_col='timestep')\n",
    "    data.index = pd.to_datetime(data.index)\n",
    "    data.rename(columns={'value':indicator}, inplace=True)\n",
    "    data['timestep_diff'] = data.index.to_series().diff().dt.days\n",
    "    data.timestep_diff.plot(kind='hist', title=indicator)\n",
    "    data.drop(columns=['timestep_diff'], inplace=True)\n",
    "    plt.show()\n",
    "    return data\n",
    "\n",
    "'''dataAzoto = getData('azoto_total')\n",
    "dataCBO = getData('cbo')\n",
    "dataAmonia = getData('amonia')'''\n",
    "\n",
    "datax = getData('amonia')\n",
    "\n",
    "data = pd.merge(getData('azoto_total'), getData('cbo'), left_index=True, right_index=True)\n",
    "data = pd.merge(data, getData('amonia'), left_index=True, right_index=True)\n",
    "\n",
    "print(data.corr(method='spearman'))\n",
    "\n",
    "\n",
    "''' # CSV WITH VARIOUS INDICATORS TO MULTIPLE CSV'S\n",
    "\n",
    "dataset = pd.read_csv('datasets/efluente_tratado_original.csv')\n",
    "dataset.drop(columns=['indicator_type', 'units', 'sub_type', 'input', 'city_name'], inplace=True)\n",
    "dataset = dataset[dataset['indicator_name'] == 'amonia']\n",
    "print(dataset.shape)\n",
    "dataset.drop(columns=['indicator_name'], inplace=True)\n",
    "dataset = dataset.rename(columns={'date':'timestep'})\n",
    "dataset.set_index('timestep', inplace=True)\n",
    "print(dataset.shape)\n",
    "dataset.to_csv('datasets/amonia.csv')\n",
    "\n",
    "'''"
   ]
  }
 ],
 "metadata": {
  "kernelspec": {
   "display_name": "Python 3",
   "language": "python",
   "name": "python3"
  },
  "language_info": {
   "codemirror_mode": {
    "name": "ipython",
    "version": 3
   },
   "file_extension": ".py",
   "mimetype": "text/x-python",
   "name": "python",
   "nbconvert_exporter": "python",
   "pygments_lexer": "ipython3",
   "version": "3.8.8"
  }
 },
 "nbformat": 4,
 "nbformat_minor": 5
}
